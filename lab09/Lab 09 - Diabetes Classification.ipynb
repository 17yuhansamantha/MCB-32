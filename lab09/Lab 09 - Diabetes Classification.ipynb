{
 "cells": [
  {
   "cell_type": "markdown",
   "metadata": {},
   "source": [
    "# [MCB 32]: Lab 09 - Diabetes Classifcation"
   ]
  },
  {
   "cell_type": "markdown",
   "metadata": {},
   "source": [
    "### Professor Robin Ball"
   ]
  },
  {
   "cell_type": "markdown",
   "metadata": {},
   "source": [
    "\n",
    "In this lab, we will be exploring a data set on diabetes in an attempt to find out which health measurements are correlated the most with diabetic patients. After we establish the relationships between these measurments and diabetes, we will build a classifier that will, given a certain patient's health measurements, classify whether that patient has diabetes or not. "
   ]
  },
  {
   "cell_type": "markdown",
   "metadata": {},
   "source": [
    "### Table of Contents"
   ]
  },
  {
   "cell_type": "markdown",
   "metadata": {},
   "source": [
    "## The Setup"
   ]
  },
  {
   "cell_type": "markdown",
   "metadata": {},
   "source": [
    "The first thing we need to do is set up our environment so we can build tables and visualize the data, so just run the next cell."
   ]
  },
  {
   "cell_type": "code",
   "execution_count": 1,
   "metadata": {},
   "outputs": [],
   "source": [
    "from datascience import *\n",
    "import numpy as np\n",
    "import matplotlib as plt\n",
    "from sklearn.neighbors import NearestNeighbors\n",
    "%matplotlib inline\n",
    "plt.style.use('fivethirtyeight')"
   ]
  },
  {
   "cell_type": "markdown",
   "metadata": {},
   "source": [
    "Then we will load in the data on the patients into a table in the next cell."
   ]
  },
  {
   "cell_type": "markdown",
   "metadata": {},
   "source": [
    "It is important to understand what the information inside of our table is, such as the columns, rows and individual entries. Each row corresponds to a particular patient and the health measurements that, that patient had recorded druring the gathering of the data. As a reminder, here is a breakdown of the columns in our table.\n",
    "\n",
    "Variable       | Description\n",
    "-------------- | ------------------------------------------------------------------\n",
    "Pregnancies | The number of pregnancies the patient has had\n",
    "Glucose | Plasma glucose concentration 2 hours into test\n",
    "BloodPressure | Diastolic Blood Pressure (mm Hg)\n",
    "SkinThickness | Triceps skin fold thickness (mm)\n",
    "Insulin | 2-hour serum insulin\n",
    "BMI | Body mass index (weight in kg/(heigth in meters)^2)\n",
    "DiabetesPedigreeFunction | A function which extrapolates the genetic risk a patient has of getting diabetes based on history of the disease in family/relatives\n",
    "Age | Age of patient (years)\n",
    "Outcome | Distinguishes if patient has diabetes or not. 0 : NO, 1 : Yes\n"
   ]
  },
  {
   "cell_type": "code",
   "execution_count": 2,
   "metadata": {},
   "outputs": [],
   "source": [
    "diabetes = Table().read_table(\"diabetes.csv\")"
   ]
  },
  {
   "cell_type": "code",
   "execution_count": 3,
   "metadata": {
    "scrolled": false
   },
   "outputs": [
    {
     "data": {
      "text/html": [
       "<table border=\"1\" class=\"dataframe\">\n",
       "    <thead>\n",
       "        <tr>\n",
       "            <th>Pregnancies</th> <th>Glucose</th> <th>BloodPressure</th> <th>SkinThickness</th> <th>Insulin</th> <th>BMI</th> <th>DiabetesPedigreeFunction</th> <th>Age</th> <th>Outcome</th>\n",
       "        </tr>\n",
       "    </thead>\n",
       "    <tbody>\n",
       "        <tr>\n",
       "            <td>6          </td> <td>148    </td> <td>72           </td> <td>35           </td> <td>0      </td> <td>33.6</td> <td>0.627                   </td> <td>50  </td> <td>1      </td>\n",
       "        </tr>\n",
       "        <tr>\n",
       "            <td>1          </td> <td>85     </td> <td>66           </td> <td>29           </td> <td>0      </td> <td>26.6</td> <td>0.351                   </td> <td>31  </td> <td>0      </td>\n",
       "        </tr>\n",
       "        <tr>\n",
       "            <td>8          </td> <td>183    </td> <td>64           </td> <td>0            </td> <td>0      </td> <td>23.3</td> <td>0.672                   </td> <td>32  </td> <td>1      </td>\n",
       "        </tr>\n",
       "        <tr>\n",
       "            <td>1          </td> <td>89     </td> <td>66           </td> <td>23           </td> <td>94     </td> <td>28.1</td> <td>0.167                   </td> <td>21  </td> <td>0      </td>\n",
       "        </tr>\n",
       "        <tr>\n",
       "            <td>0          </td> <td>137    </td> <td>40           </td> <td>35           </td> <td>168    </td> <td>43.1</td> <td>2.288                   </td> <td>33  </td> <td>1      </td>\n",
       "        </tr>\n",
       "        <tr>\n",
       "            <td>5          </td> <td>116    </td> <td>74           </td> <td>0            </td> <td>0      </td> <td>25.6</td> <td>0.201                   </td> <td>30  </td> <td>0      </td>\n",
       "        </tr>\n",
       "        <tr>\n",
       "            <td>3          </td> <td>78     </td> <td>50           </td> <td>32           </td> <td>88     </td> <td>31  </td> <td>0.248                   </td> <td>26  </td> <td>1      </td>\n",
       "        </tr>\n",
       "        <tr>\n",
       "            <td>10         </td> <td>115    </td> <td>0            </td> <td>0            </td> <td>0      </td> <td>35.3</td> <td>0.134                   </td> <td>29  </td> <td>0      </td>\n",
       "        </tr>\n",
       "        <tr>\n",
       "            <td>2          </td> <td>197    </td> <td>70           </td> <td>45           </td> <td>543    </td> <td>30.5</td> <td>0.158                   </td> <td>53  </td> <td>1      </td>\n",
       "        </tr>\n",
       "        <tr>\n",
       "            <td>8          </td> <td>125    </td> <td>96           </td> <td>0            </td> <td>0      </td> <td>0   </td> <td>0.232                   </td> <td>54  </td> <td>1      </td>\n",
       "        </tr>\n",
       "    </tbody>\n",
       "</table>\n",
       "<p>... (758 rows omitted)</p>"
      ],
      "text/plain": [
       "Pregnancies | Glucose | BloodPressure | SkinThickness | Insulin | BMI  | DiabetesPedigreeFunction | Age  | Outcome\n",
       "6           | 148     | 72            | 35            | 0       | 33.6 | 0.627                    | 50   | 1\n",
       "1           | 85      | 66            | 29            | 0       | 26.6 | 0.351                    | 31   | 0\n",
       "8           | 183     | 64            | 0             | 0       | 23.3 | 0.672                    | 32   | 1\n",
       "1           | 89      | 66            | 23            | 94      | 28.1 | 0.167                    | 21   | 0\n",
       "0           | 137     | 40            | 35            | 168     | 43.1 | 2.288                    | 33   | 1\n",
       "5           | 116     | 74            | 0             | 0       | 25.6 | 0.201                    | 30   | 0\n",
       "3           | 78      | 50            | 32            | 88      | 31   | 0.248                    | 26   | 1\n",
       "10          | 115     | 0             | 0             | 0       | 35.3 | 0.134                    | 29   | 0\n",
       "2           | 197     | 70            | 45            | 543     | 30.5 | 0.158                    | 53   | 1\n",
       "8           | 125     | 96            | 0             | 0       | 0    | 0.232                    | 54   | 1\n",
       "... (758 rows omitted)"
      ]
     },
     "execution_count": 3,
     "metadata": {},
     "output_type": "execute_result"
    }
   ],
   "source": [
    "diabetes"
   ]
  },
  {
   "cell_type": "code",
   "execution_count": 5,
   "metadata": {},
   "outputs": [
    {
     "data": {
      "image/png": "[encoded data removed]",
      "text/plain": [
       "<Figure size 432x288 with 1 Axes>"
      ]
     },
     "metadata": {},
     "output_type": "display_data"
    }
   ],
   "source": [
    "diabetes.hist(\"Insulin\", group = \"Outcome\")"
   ]
  },
  {
   "cell_type": "markdown",
   "metadata": {},
   "source": [
    "## Conceptual Background"
   ]
  },
  {
   "cell_type": "markdown",
   "metadata": {},
   "source": [
    "Before we dig into the dataset that we have, now is a good time to delve further into the idea of classification and, more generally, machine learning.\n",
    "\n",
    "The next section is dense so it might be helpful to walk through the concepts with a partner or in a group.\n",
    "\n",
    "Machine learning is a school of thought which generally tries to make accurate models and predictions about the world using data. Machine learning algorithms can become quite complex, to the point where an algorithm can start to learn from data on its own. In today's lab, we will be implementing a machine learning model which uses supervised learning (aka human intervention) to improve it throughout the model-building process. The model we will be building with our data is a classifier.\n",
    "\n",
    "Classification is a type of machine learning and modeling which takes in certain inputs or data about a subject and tries to predict which category or group that certain data point or subject lies in based on data or knowledge we already have. The knowledge that it generally relies on, is that it uses a dataset of subjects that we already know the categories or classifications for. The categories or classes for our data are diabetic and non-diabetic. We already have a dataset of individuals for whom we know if a particular individual is diabetic or not.\n",
    "\n",
    "Our classifier will use a K-nearest neighbors algorithm to classify an input as diabetic or non-diabetic. Please don't get too caught up on the scary name. Essentially, this process finds the closest individuals in our dataset to the new individual we are trying to classify. It does this by calculating distances between our individual of interest's health measurements and the health measurements of all the individuals in the dataset. Once it has these k-closest individuals, it can then classify our new individual as diabetic or non-diabetic based on the classifications of the individuals we found are closest to him or her.\n",
    "\n",
    "Here is an example: \n",
    "\n",
    "Say I am trying to classify Natalie with a 3-Nearest Neighbor classifier and find that her three neearest neighbors in my dataset are Jose, Kimberly, and Luke. I know that Luke and Kimberly have diabetes and that Jose doesn't because they are in my dataset of people who I know the classification of. Because a majority of the three nearest neighbors to Natalie are diabetic, I would then classify Natalie as diabetic."
   ]
  },
  {
   "cell_type": "markdown",
   "metadata": {},
   "source": [
    "<div class=\"alert alert-info\">\n",
    "**QUESTION**: Classify Adel based on the following information and put your answer into the quotations for the variable adel_classification \n",
    "</div>\n"
   ]
  },
  {
   "cell_type": "markdown",
   "metadata": {},
   "source": [
    "I find that Adel's 5-nearest neighbors are Tracy, Hanh, Jordan, Justin, and Sam. Sam and Tracy have diabetes, but Jordan, Justin, and Hanh do not. How should I classify Adel?"
   ]
  },
  {
   "cell_type": "code",
   "execution_count": 5,
   "metadata": {},
   "outputs": [],
   "source": [
    "adel_classification = \"\""
   ]
  },
  {
   "cell_type": "code",
   "execution_count": 6,
   "metadata": {},
   "outputs": [
    {
     "data": {
      "text/html": [
       "<table border=\"1\" class=\"dataframe\">\n",
       "    <thead>\n",
       "        <tr>\n",
       "            <th>Outcome</th> <th>count</th>\n",
       "        </tr>\n",
       "    </thead>\n",
       "    <tbody>\n",
       "        <tr>\n",
       "            <td>0      </td> <td>500  </td>\n",
       "        </tr>\n",
       "        <tr>\n",
       "            <td>1      </td> <td>268  </td>\n",
       "        </tr>\n",
       "    </tbody>\n",
       "</table>"
      ],
      "text/plain": [
       "Outcome | count\n",
       "0       | 500\n",
       "1       | 268"
      ]
     },
     "execution_count": 6,
     "metadata": {},
     "output_type": "execute_result"
    }
   ],
   "source": [
    "diabetes.group(\"Outcome\")"
   ]
  },
  {
   "cell_type": "markdown",
   "metadata": {},
   "source": [
    "Now is a good time to take a deeper look at the data we have for diabetes and see if we can see any problems with the data, and if it can be transformed in any way to make out classification more accurate."
   ]
  },
  {
   "cell_type": "code",
   "execution_count": 7,
   "metadata": {
    "scrolled": true
   },
   "outputs": [
    {
     "data": {
      "text/html": [
       "<table border=\"1\" class=\"dataframe\">\n",
       "    <thead>\n",
       "        <tr>\n",
       "            <th>Pregnancies</th> <th>Glucose</th> <th>BloodPressure</th> <th>SkinThickness</th> <th>Insulin</th> <th>BMI</th> <th>DiabetesPedigreeFunction</th> <th>Age</th> <th>Outcome</th>\n",
       "        </tr>\n",
       "    </thead>\n",
       "    <tbody>\n",
       "        <tr>\n",
       "            <td>6          </td> <td>148    </td> <td>72           </td> <td>35           </td> <td>0      </td> <td>33.6</td> <td>0.627                   </td> <td>50  </td> <td>1      </td>\n",
       "        </tr>\n",
       "        <tr>\n",
       "            <td>1          </td> <td>85     </td> <td>66           </td> <td>29           </td> <td>0      </td> <td>26.6</td> <td>0.351                   </td> <td>31  </td> <td>0      </td>\n",
       "        </tr>\n",
       "        <tr>\n",
       "            <td>8          </td> <td>183    </td> <td>64           </td> <td>0            </td> <td>0      </td> <td>23.3</td> <td>0.672                   </td> <td>32  </td> <td>1      </td>\n",
       "        </tr>\n",
       "        <tr>\n",
       "            <td>1          </td> <td>89     </td> <td>66           </td> <td>23           </td> <td>94     </td> <td>28.1</td> <td>0.167                   </td> <td>21  </td> <td>0      </td>\n",
       "        </tr>\n",
       "        <tr>\n",
       "            <td>0          </td> <td>137    </td> <td>40           </td> <td>35           </td> <td>168    </td> <td>43.1</td> <td>2.288                   </td> <td>33  </td> <td>1      </td>\n",
       "        </tr>\n",
       "        <tr>\n",
       "            <td>5          </td> <td>116    </td> <td>74           </td> <td>0            </td> <td>0      </td> <td>25.6</td> <td>0.201                   </td> <td>30  </td> <td>0      </td>\n",
       "        </tr>\n",
       "        <tr>\n",
       "            <td>3          </td> <td>78     </td> <td>50           </td> <td>32           </td> <td>88     </td> <td>31  </td> <td>0.248                   </td> <td>26  </td> <td>1      </td>\n",
       "        </tr>\n",
       "        <tr>\n",
       "            <td>10         </td> <td>115    </td> <td>0            </td> <td>0            </td> <td>0      </td> <td>35.3</td> <td>0.134                   </td> <td>29  </td> <td>0      </td>\n",
       "        </tr>\n",
       "        <tr>\n",
       "            <td>2          </td> <td>197    </td> <td>70           </td> <td>45           </td> <td>543    </td> <td>30.5</td> <td>0.158                   </td> <td>53  </td> <td>1      </td>\n",
       "        </tr>\n",
       "        <tr>\n",
       "            <td>8          </td> <td>125    </td> <td>96           </td> <td>0            </td> <td>0      </td> <td>0   </td> <td>0.232                   </td> <td>54  </td> <td>1      </td>\n",
       "        </tr>\n",
       "    </tbody>\n",
       "</table>\n",
       "<p>... (758 rows omitted)</p>"
      ],
      "text/plain": [
       "Pregnancies | Glucose | BloodPressure | SkinThickness | Insulin | BMI  | DiabetesPedigreeFunction | Age  | Outcome\n",
       "6           | 148     | 72            | 35            | 0       | 33.6 | 0.627                    | 50   | 1\n",
       "1           | 85      | 66            | 29            | 0       | 26.6 | 0.351                    | 31   | 0\n",
       "8           | 183     | 64            | 0             | 0       | 23.3 | 0.672                    | 32   | 1\n",
       "1           | 89      | 66            | 23            | 94      | 28.1 | 0.167                    | 21   | 0\n",
       "0           | 137     | 40            | 35            | 168     | 43.1 | 2.288                    | 33   | 1\n",
       "5           | 116     | 74            | 0             | 0       | 25.6 | 0.201                    | 30   | 0\n",
       "3           | 78      | 50            | 32            | 88      | 31   | 0.248                    | 26   | 1\n",
       "10          | 115     | 0             | 0             | 0       | 35.3 | 0.134                    | 29   | 0\n",
       "2           | 197     | 70            | 45            | 543     | 30.5 | 0.158                    | 53   | 1\n",
       "8           | 125     | 96            | 0             | 0       | 0    | 0.232                    | 54   | 1\n",
       "... (758 rows omitted)"
      ]
     },
     "execution_count": 7,
     "metadata": {},
     "output_type": "execute_result"
    }
   ],
   "source": [
    "diabetes"
   ]
  },
  {
   "cell_type": "markdown",
   "metadata": {},
   "source": [
    "One problem with the data is that the different columns or health measurements we take on an individual have different scales. For example, Glucose has numbers in the hundreds, Age in the tens, and The Diabetes Pedigree Function is a number between 0 and 1. Could this be a problematic feature of our data set, given we are measuring the distances between two individuals with these health measurements?"
   ]
  },
  {
   "cell_type": "markdown",
   "metadata": {},
   "source": [
    "The problem with having different scales when we are calculating distance between two people is that two people could be relatively closer in their Glucose measurement than their Diabetes Pedigree Function (DPF) score. For example, say we have two pairs of people and we just have their Glucose and DPF data in the form (Glucose, PDF). The first pair of people have data of (140, 0) (150, 1) and the second pair of people have data of (140, 0.350), (153, 0.352). The first pair has a distance of $\\sqrt101$ but the second pair has a distance of approximately $\\sqrt169$. What we aren't taking into account is that a distance of 1 in DPF scores is actually very significant because its the biggest possible distance you can have in DPF scores, but the second pair's distance in Glucose is three larger than the first pair's, which our distance calculation is putting a lot of weight on, even though its not that significant of a difference in Glucose levels. The second pair should actually be closer because their DPF scores are almost identical, and their glucose measurements are much further off then the first pairs. "
   ]
  },
  {
   "cell_type": "markdown",
   "metadata": {},
   "source": [
    "One way we can account for this is to just put all of the data into standard units. Essentially, instead of having the raw data we put the number of standard deviations that a specific entry is above or below the mean of the data in that column. This will make sure all data points are in a range of numbers from about -3 to 3. Once we do this we will no longer have any issues with scaling for our distance calculations"
   ]
  },
  {
   "cell_type": "code",
   "execution_count": 8,
   "metadata": {},
   "outputs": [],
   "source": [
    "def standard_units(x):\n",
    "    mean = np.mean(x)\n",
    "    std = np.std(x)\n",
    "    normalized_x = (x - mean)/std\n",
    "    return normalized_x"
   ]
  },
  {
   "cell_type": "code",
   "execution_count": 9,
   "metadata": {},
   "outputs": [
    {
     "data": {
      "text/html": [
       "<table border=\"1\" class=\"dataframe\">\n",
       "    <thead>\n",
       "        <tr>\n",
       "            <th>Pregnancies</th> <th>Glucose</th> <th>BloodPressure</th> <th>SkinThickness</th> <th>Insulin</th> <th>BMI</th> <th>DiabetesPedigreeFunction</th> <th>Age</th> <th>Outcome</th>\n",
       "        </tr>\n",
       "    </thead>\n",
       "    <tbody>\n",
       "        <tr>\n",
       "            <td>0.639947   </td> <td>0.848324 </td> <td>0.149641     </td> <td>0.90727      </td> <td>-0.692891</td> <td>0.204013 </td> <td>0.468492                </td> <td>1.426     </td> <td>1      </td>\n",
       "        </tr>\n",
       "        <tr>\n",
       "            <td>-0.844885  </td> <td>-1.1234  </td> <td>-0.160546    </td> <td>0.530902     </td> <td>-0.692891</td> <td>-0.684422</td> <td>-0.365061               </td> <td>-0.190672 </td> <td>0      </td>\n",
       "        </tr>\n",
       "        <tr>\n",
       "            <td>1.23388    </td> <td>1.94372  </td> <td>-0.263941    </td> <td>-1.28821     </td> <td>-0.692891</td> <td>-1.10326 </td> <td>0.604397                </td> <td>-0.105584 </td> <td>1      </td>\n",
       "        </tr>\n",
       "        <tr>\n",
       "            <td>-0.844885  </td> <td>-0.998208</td> <td>-0.160546    </td> <td>0.154533     </td> <td>0.123302 </td> <td>-0.494043</td> <td>-0.920763               </td> <td>-1.04155  </td> <td>0      </td>\n",
       "        </tr>\n",
       "        <tr>\n",
       "            <td>-1.14185   </td> <td>0.504055 </td> <td>-1.50469     </td> <td>0.90727      </td> <td>0.765836 </td> <td>1.40975  </td> <td>5.48491                 </td> <td>-0.0204964</td> <td>1      </td>\n",
       "        </tr>\n",
       "        <tr>\n",
       "            <td>0.342981   </td> <td>-0.153185</td> <td>0.253036     </td> <td>-1.28821     </td> <td>-0.692891</td> <td>-0.811341</td> <td>-0.818079               </td> <td>-0.27576  </td> <td>0      </td>\n",
       "        </tr>\n",
       "        <tr>\n",
       "            <td>-0.250952  </td> <td>-1.34248 </td> <td>-0.98771     </td> <td>0.719086     </td> <td>0.0712043</td> <td>-0.125977</td> <td>-0.676133               </td> <td>-0.616111 </td> <td>1      </td>\n",
       "        </tr>\n",
       "        <tr>\n",
       "            <td>1.82781    </td> <td>-0.184482</td> <td>-3.5726      </td> <td>-1.28821     </td> <td>-0.692891</td> <td>0.419775 </td> <td>-1.02043                </td> <td>-0.360847 </td> <td>0      </td>\n",
       "        </tr>\n",
       "        <tr>\n",
       "            <td>-0.547919  </td> <td>2.38188  </td> <td>0.0462453    </td> <td>1.53455      </td> <td>4.02192  </td> <td>-0.189437</td> <td>-0.947944               </td> <td>1.68126   </td> <td>1      </td>\n",
       "        </tr>\n",
       "        <tr>\n",
       "            <td>1.23388    </td> <td>0.128489 </td> <td>1.39039      </td> <td>-1.28821     </td> <td>-0.692891</td> <td>-4.06047 </td> <td>-0.724455               </td> <td>1.76635   </td> <td>1      </td>\n",
       "        </tr>\n",
       "    </tbody>\n",
       "</table>\n",
       "<p>... (758 rows omitted)</p>"
      ],
      "text/plain": [
       "Pregnancies | Glucose   | BloodPressure | SkinThickness | Insulin   | BMI       | DiabetesPedigreeFunction | Age        | Outcome\n",
       "0.639947    | 0.848324  | 0.149641      | 0.90727       | -0.692891 | 0.204013  | 0.468492                 | 1.426      | 1\n",
       "-0.844885   | -1.1234   | -0.160546     | 0.530902      | -0.692891 | -0.684422 | -0.365061                | -0.190672  | 0\n",
       "1.23388     | 1.94372   | -0.263941     | -1.28821      | -0.692891 | -1.10326  | 0.604397                 | -0.105584  | 1\n",
       "-0.844885   | -0.998208 | -0.160546     | 0.154533      | 0.123302  | -0.494043 | -0.920763                | -1.04155   | 0\n",
       "-1.14185    | 0.504055  | -1.50469      | 0.90727       | 0.765836  | 1.40975   | 5.48491                  | -0.0204964 | 1\n",
       "0.342981    | -0.153185 | 0.253036      | -1.28821      | -0.692891 | -0.811341 | -0.818079                | -0.27576   | 0\n",
       "-0.250952   | -1.34248  | -0.98771      | 0.719086      | 0.0712043 | -0.125977 | -0.676133                | -0.616111  | 1\n",
       "1.82781     | -0.184482 | -3.5726       | -1.28821      | -0.692891 | 0.419775  | -1.02043                 | -0.360847  | 0\n",
       "-0.547919   | 2.38188   | 0.0462453     | 1.53455       | 4.02192   | -0.189437 | -0.947944                | 1.68126    | 1\n",
       "1.23388     | 0.128489  | 1.39039       | -1.28821      | -0.692891 | -4.06047  | -0.724455                | 1.76635    | 1\n",
       "... (758 rows omitted)"
      ]
     },
     "execution_count": 9,
     "metadata": {},
     "output_type": "execute_result"
    }
   ],
   "source": [
    "outcomes = diabetes.column(\"Outcome\")\n",
    "diabetes_std = util.table_apply(diabetes, standard_units)\n",
    "diabetes_std = diabetes_std.drop(\"Outcome\")\n",
    "diabetes_std = diabetes_std.with_column(\"Outcome\", outcomes)\n",
    "diabetes_std"
   ]
  },
  {
   "cell_type": "markdown",
   "metadata": {},
   "source": [
    "Now that we have an idea of how our classification works and we've fixed our data, how will we know how well our classifier works? In order to know this, we would have to have access to new data which we have not created our classifier with and that still has the known classification of the individuals in it. We could go scouring the internet for a new data set, but luckily data scientists have come up with a clever trick to get around this.\n",
    "\n",
    "The idea is to split up the data set we already have into what are called training and testing sets. The training set will be larger and will consist of the data that we use to create our classifier while the testing set will not be accessed or viewed until we want to test how well our classifier works. Because we know the classification of everyone in our data set already, we will know whether or not a certain individual has diabetes or not in our testing set. Then we will try to classify everyone in our testing set with our classifier and see how accurate or how often our classifier makes the right prediction."
   ]
  },
  {
   "cell_type": "markdown",
   "metadata": {},
   "source": [
    "The next cell calls a function on our table, .split(k), which will automatically split our tables into one with k rows that are randomly sampled from the original table and one table with the rest of the rows in our original table. We usually want between 10-30% of our data in the testing set and the rest in the training."
   ]
  },
  {
   "cell_type": "code",
   "execution_count": 10,
   "metadata": {},
   "outputs": [],
   "source": [
    "diabetes_testing, diabetes_training = diabetes_std.split(170)"
   ]
  },
  {
   "cell_type": "code",
   "execution_count": 11,
   "metadata": {},
   "outputs": [
    {
     "data": {
      "text/plain": [
       "(598, 170)"
      ]
     },
     "execution_count": 11,
     "metadata": {},
     "output_type": "execute_result"
    }
   ],
   "source": [
    "diabetes_training.num_rows, diabetes_testing.num_rows"
   ]
  },
  {
   "cell_type": "markdown",
   "metadata": {},
   "source": [
    "Now that we finally have an understanding of classification and a training data set we can build our classifier with, we can finally start to build it. From now on we will be exclusively using our training set to build our model."
   ]
  },
  {
   "cell_type": "markdown",
   "metadata": {},
   "source": [
    "What we need to figure out, is which health measurements in our data will give us the most accurate classifications. We can do this by finding out which variables have the biggest difference between people with diabetes and people without diabetes. One thing we can check is a difference in means between the two groups of people."
   ]
  },
  {
   "cell_type": "code",
   "execution_count": 12,
   "metadata": {
    "scrolled": true
   },
   "outputs": [
    {
     "data": {
      "text/html": [
       "<table border=\"1\" class=\"dataframe\">\n",
       "    <thead>\n",
       "        <tr>\n",
       "            <th>Outcome</th> <th>BloodPressure mean</th>\n",
       "        </tr>\n",
       "    </thead>\n",
       "    <tbody>\n",
       "        <tr>\n",
       "            <td>0      </td> <td>-0.0158722        </td>\n",
       "        </tr>\n",
       "        <tr>\n",
       "            <td>1      </td> <td>0.0695215         </td>\n",
       "        </tr>\n",
       "    </tbody>\n",
       "</table>"
      ],
      "text/plain": [
       "Outcome | BloodPressure mean\n",
       "0       | -0.0158722\n",
       "1       | 0.0695215"
      ]
     },
     "execution_count": 12,
     "metadata": {},
     "output_type": "execute_result"
    }
   ],
   "source": [
    "diabetes_training.select(\"BloodPressure\", \"Outcome\").group(\"Outcome\", np.mean)"
   ]
  },
  {
   "cell_type": "markdown",
   "metadata": {},
   "source": [
    "What we did in the above cell is select the BloodPressure and Outcome columns in our table (remember outcome has two possible values, 0 and 1 for non-diabetic and diabetic), and then we grouped by outcome. What this does is separate out entries into the different unique values for that column. So for our table, our entries are split into the groups of people who have 0 and 1 for their outcome value. We also pass in a function np.mean into the group method. Passing in this function, np.mean, tells the computer how it should aggregate the BloodPressure entries in each group. Therefore, np.mean tells the computer to find the mean BloodPressure of each of these groups. So the second column conatins the means for each group, 0 and 1."
   ]
  },
  {
   "cell_type": "markdown",
   "metadata": {},
   "source": [
    "Remember that our variables are in standard units now, so the values indicate how many standard deviations above and below the mean each respective group is on average. If you are unfamiliar with this terminology, then just think of a standard unit as a measure of how high or below a specific number is with respect to the mean. A number that is negative is below the mean, a number that is positive is above the mean. Numbers that are close to zero are close to the mean with respect to that group of data. About as far as a number can get from the mean is 3 or -3 (usually), with 3 being a number very high above the mean and -3 being a number very below the mean."
   ]
  },
  {
   "cell_type": "markdown",
   "metadata": {},
   "source": [
    "For our table above we see group 0 has an average of -0.0685657 meaning, on average, non-diabetic patients have a Bloodpressure below the mean BloodPressure for everyone in the training data. And the other mean for group 1 is 0.0584094, meaning the average person with diabetes has a BloodPressure above the same mean. Both values are pretty close to zero though, so there isn't that big of a difference in means between the two groups."
   ]
  },
  {
   "cell_type": "markdown",
   "metadata": {},
   "source": [
    "<div class=\"alert alert-info\">\n",
    "**QUESTION**: Now try finding the mean of different health measurements for each group, 0 and 1, in our training data. Try doing it for the \"Age\" column and the \"BMI\" column. (Hint: look at where we passed the \"BloodPressure\" column label in the previous line of code) Observe if the means are above or below zero and how far above and below zero they are for each group.\n",
    "    </div>"
   ]
  },
  {
   "cell_type": "code",
   "execution_count": 13,
   "metadata": {},
   "outputs": [
    {
     "data": {
      "text/plain": [
       "Ellipsis"
      ]
     },
     "execution_count": 13,
     "metadata": {},
     "output_type": "execute_result"
    }
   ],
   "source": [
    "bmi_means = ...\n",
    "bmi_means"
   ]
  },
  {
   "cell_type": "code",
   "execution_count": 14,
   "metadata": {},
   "outputs": [
    {
     "data": {
      "text/plain": [
       "Ellipsis"
      ]
     },
     "execution_count": 14,
     "metadata": {},
     "output_type": "execute_result"
    }
   ],
   "source": [
    "age_means = ...\n",
    "age_means"
   ]
  },
  {
   "cell_type": "markdown",
   "metadata": {},
   "source": [
    "Seeing a difference in the mean between the two groups of those who are diabetic and those who are not in our training data is helpful in deciding which health measurements have the biggest disparities between those two groups. However, it is not that intuitive or easy to see and it might be better to try to visualize the data. If we could see the distribution of the health measurements for the different groups then it might be easier to decide which health measurements seem to be the biggest difference makers between diabetic and non-diabetic patients. "
   ]
  },
  {
   "cell_type": "markdown",
   "metadata": {},
   "source": [
    "Luckily, we have a tool that we have seen before called a histogram which places our data into bins. Each bin has a height which is a percentage of the data in that bin and a width which is the range of the data in that bin. This information is not too important and you don't have to completely understand the intricacies of a histogram. What is important to see is that larger or taller bars have more of the data in them and that the histogram overall shows the distribution of the data. Therefore, if we create a histogram for each group for say BloodPressure then we can see a more complete picture of how diabetic and non-dabetic people differ in BloodPressure."
   ]
  },
  {
   "cell_type": "code",
   "execution_count": 15,
   "metadata": {},
   "outputs": [
    {
     "data": {
      "text/html": [
       "<table border=\"1\" class=\"dataframe\">\n",
       "    <thead>\n",
       "        <tr>\n",
       "            <th>Insulin</th> <th>count</th>\n",
       "        </tr>\n",
       "    </thead>\n",
       "    <tbody>\n",
       "        <tr>\n",
       "            <td>0      </td> <td>374  </td>\n",
       "        </tr>\n",
       "        <tr>\n",
       "            <td>14     </td> <td>1    </td>\n",
       "        </tr>\n",
       "        <tr>\n",
       "            <td>15     </td> <td>1    </td>\n",
       "        </tr>\n",
       "        <tr>\n",
       "            <td>16     </td> <td>1    </td>\n",
       "        </tr>\n",
       "        <tr>\n",
       "            <td>18     </td> <td>2    </td>\n",
       "        </tr>\n",
       "        <tr>\n",
       "            <td>22     </td> <td>1    </td>\n",
       "        </tr>\n",
       "        <tr>\n",
       "            <td>23     </td> <td>2    </td>\n",
       "        </tr>\n",
       "        <tr>\n",
       "            <td>25     </td> <td>1    </td>\n",
       "        </tr>\n",
       "        <tr>\n",
       "            <td>29     </td> <td>1    </td>\n",
       "        </tr>\n",
       "        <tr>\n",
       "            <td>32     </td> <td>1    </td>\n",
       "        </tr>\n",
       "    </tbody>\n",
       "</table>\n",
       "<p>... (176 rows omitted)</p>"
      ],
      "text/plain": [
       "Insulin | count\n",
       "0       | 374\n",
       "14      | 1\n",
       "15      | 1\n",
       "16      | 1\n",
       "18      | 2\n",
       "22      | 1\n",
       "23      | 2\n",
       "25      | 1\n",
       "29      | 1\n",
       "32      | 1\n",
       "... (176 rows omitted)"
      ]
     },
     "execution_count": 15,
     "metadata": {},
     "output_type": "execute_result"
    }
   ],
   "source": [
    "#diabetes.group(\"SkinThickness\")\n",
    "diabetes.group(\"Insulin\")"
   ]
  },
  {
   "cell_type": "code",
   "execution_count": 16,
   "metadata": {
    "scrolled": true
   },
   "outputs": [
    {
     "data": {
      "image/png": "[encoded data removed]",
      "text/plain": [
       "<Figure size 432x288 with 1 Axes>"
      ]
     },
     "metadata": {},
     "output_type": "display_data"
    }
   ],
   "source": [
    "diabetes_training.select(\"SkinThickness\", \"Outcome\").hist(group=\"Outcome\")"
   ]
  },
  {
   "cell_type": "code",
   "execution_count": 17,
   "metadata": {
    "scrolled": true
   },
   "outputs": [
    {
     "data": {
      "image/png": "[encoded data removed]",
      "text/plain": [
       "<Figure size 432x288 with 1 Axes>"
      ]
     },
     "metadata": {},
     "output_type": "display_data"
    }
   ],
   "source": [
    "diabetes_training.select(\"BloodPressure\", \"Outcome\").hist(group=\"Outcome\")"
   ]
  },
  {
   "cell_type": "code",
   "execution_count": 18,
   "metadata": {
    "scrolled": false
   },
   "outputs": [
    {
     "data": {
      "image/png": "[encoded data removed]",
      "text/plain": [
       "<Figure size 432x288 with 1 Axes>"
      ]
     },
     "metadata": {},
     "output_type": "display_data"
    }
   ],
   "source": [
    "diabetes_training.select(\"Age\", \"Outcome\").hist(group=\"Outcome\")"
   ]
  },
  {
   "cell_type": "code",
   "execution_count": 19,
   "metadata": {},
   "outputs": [
    {
     "data": {
      "image/png": "[encoded data removed]",
      "text/plain": [
       "<Figure size 432x288 with 1 Axes>"
      ]
     },
     "metadata": {},
     "output_type": "display_data"
    }
   ],
   "source": [
    "diabetes_training.select(\"BMI\", \"Outcome\").hist(group=\"Outcome\")"
   ]
  },
  {
   "cell_type": "code",
   "execution_count": 20,
   "metadata": {
    "scrolled": true
   },
   "outputs": [
    {
     "data": {
      "image/png": "[encoded data removed]",
      "text/plain": [
       "<Figure size 432x288 with 1 Axes>"
      ]
     },
     "metadata": {},
     "output_type": "display_data"
    }
   ],
   "source": [
    "diabetes_training.select(\"DiabetesPedigreeFunction\", \"Outcome\").hist(group=\"Outcome\")"
   ]
  },
  {
   "cell_type": "code",
   "execution_count": 21,
   "metadata": {},
   "outputs": [
    {
     "data": {
      "image/png": "[encoded data removed]",
      "text/plain": [
       "<Figure size 432x288 with 1 Axes>"
      ]
     },
     "metadata": {},
     "output_type": "display_data"
    }
   ],
   "source": [
    "diabetes_training.select(\"Age\", \"Outcome\").hist(group=\"Outcome\")"
   ]
  },
  {
   "cell_type": "code",
   "execution_count": 22,
   "metadata": {
    "scrolled": true
   },
   "outputs": [
    {
     "data": {
      "image/png": "[encoded data removed]",
      "text/plain": [
       "<Figure size 432x288 with 1 Axes>"
      ]
     },
     "metadata": {},
     "output_type": "display_data"
    }
   ],
   "source": [
    "diabetes_training.select(\"Pregnancies\", \"Outcome\").hist(group=\"Outcome\")"
   ]
  },
  {
   "cell_type": "code",
   "execution_count": 23,
   "metadata": {},
   "outputs": [
    {
     "data": {
      "image/png": "[encoded data removed]",
      "text/plain": [
       "<Figure size 432x288 with 1 Axes>"
      ]
     },
     "metadata": {},
     "output_type": "display_data"
    }
   ],
   "source": [
    "diabetes_training.select(\"Glucose\", \"Outcome\").hist(group=\"Outcome\")"
   ]
  },
  {
   "cell_type": "code",
   "execution_count": 24,
   "metadata": {},
   "outputs": [],
   "source": [
    "def get_distance(x, y):\n",
    "    return np.sqrt(np.sum((x-y)**2))"
   ]
  },
  {
   "cell_type": "code",
   "execution_count": 25,
   "metadata": {},
   "outputs": [
    {
     "data": {
      "text/plain": [
       "array([[ 0.04601433, -0.12188771, -0.26394125, ..., -0.73049514,\n",
       "        -0.78628618,  0.        ],\n",
       "       [ 0.93691372, -0.46615631,  1.18359575, ..., -0.71539454,\n",
       "         1.2558199 ,  0.        ],\n",
       "       [-0.84488505, -0.90431634, -0.36733675, ...,  0.03057477,\n",
       "        -0.70119842,  0.        ],\n",
       "       ...,\n",
       "       [-1.14185152, -0.59134489, -0.88431425, ..., -1.18955318,\n",
       "        -1.04154944,  0.        ],\n",
       "       [-0.54791859, -1.24858494,  0.14964075, ...,  0.22688248,\n",
       "        -0.70119842,  0.        ],\n",
       "       [ 0.63994726, -0.184482  , -0.47073225, ..., -0.68519336,\n",
       "         0.57511787,  1.        ]])"
      ]
     },
     "execution_count": 25,
     "metadata": {},
     "output_type": "execute_result"
    }
   ],
   "source": [
    "np.array(diabetes_training.rows)"
   ]
  },
  {
   "cell_type": "code",
   "execution_count": 26,
   "metadata": {},
   "outputs": [],
   "source": [
    "def get_k_nearest(test, table, k):\n",
    "    x = test.rows\n",
    "    x_array = np.array(x)\n",
    "    nbrs = NearestNeighbors(n_neighbors=k).fit(np.array(table.rows))\n",
    "    distances, indices = nbrs.kneighbors(x_array)\n",
    "    return distances, indices\n",
    "    "
   ]
  },
  {
   "cell_type": "code",
   "execution_count": 27,
   "metadata": {
    "scrolled": true
   },
   "outputs": [
    {
     "data": {
      "text/plain": [
       "(array([[0.7573642 , 1.7458861 , 1.76159026, 1.81279021, 1.84655129],\n",
       "        [0.70413426, 0.82560928, 0.83970694, 1.09100878, 1.09232116],\n",
       "        [1.16688118, 1.36012452, 1.38422883, 1.40600064, 1.40839491],\n",
       "        [1.07988096, 1.32118617, 1.45474477, 1.48238883, 1.58458504],\n",
       "        [0.70205959, 0.93078949, 1.19063909, 1.22387492, 1.26275134],\n",
       "        [0.64027093, 1.31048369, 1.66673533, 1.79184751, 1.80993314],\n",
       "        [0.84550914, 1.08653934, 1.15171952, 1.16010856, 1.2269853 ],\n",
       "        [0.80368025, 1.10433049, 1.14730028, 1.1784709 , 1.3666676 ],\n",
       "        [1.35987191, 1.55898546, 1.60881553, 1.63793774, 1.65232463],\n",
       "        [0.76155774, 1.10691939, 1.11286813, 1.12039126, 1.14257025],\n",
       "        [0.84305593, 1.19970977, 1.21299057, 1.34489929, 1.3727488 ],\n",
       "        [1.34656764, 1.39482357, 1.52644239, 1.65132448, 1.66849493],\n",
       "        [1.82628618, 1.84292768, 1.87170684, 1.9387612 , 1.98349061],\n",
       "        [1.026822  , 1.18640422, 1.19049968, 1.22752569, 1.24600227],\n",
       "        [0.76219574, 0.76832975, 0.80769767, 0.86198862, 0.99876235],\n",
       "        [1.16035024, 1.27777988, 1.32262996, 1.35145071, 1.62200734],\n",
       "        [1.62870779, 1.84617356, 1.95662785, 2.01126455, 2.17507473],\n",
       "        [0.51502239, 0.69091903, 0.76652548, 2.86159229, 2.92209808],\n",
       "        [1.18792891, 1.42883135, 1.75432038, 1.89899859, 1.93646422],\n",
       "        [0.75142831, 1.0598042 , 1.5235322 , 1.59216075, 1.61758411],\n",
       "        [0.51907355, 0.66785148, 0.67677703, 0.70648762, 0.73939347],\n",
       "        [0.71384258, 1.22862766, 1.56773093, 1.61232521, 1.62447608],\n",
       "        [1.13570974, 1.16375565, 1.19512845, 1.28654558, 1.37254197],\n",
       "        [1.88680168, 1.9354934 , 1.96562087, 1.97617408, 2.23269274],\n",
       "        [0.70380823, 0.72631268, 0.73681392, 0.88581029, 0.91668712],\n",
       "        [1.02204087, 1.25011712, 1.71630347, 2.28093156, 2.30231263],\n",
       "        [1.13377633, 1.15920415, 1.36653039, 1.39464668, 1.48371075],\n",
       "        [1.4338671 , 1.58299238, 1.68567785, 1.69168205, 1.78232346],\n",
       "        [1.20047238, 1.25852718, 1.29902792, 1.53504708, 1.65326627],\n",
       "        [0.5724065 , 1.08919749, 1.16987785, 1.18245701, 1.27372112],\n",
       "        [0.8033488 , 0.83126728, 0.92859718, 0.96005164, 0.97548114],\n",
       "        [3.43959816, 3.64042258, 3.66381697, 3.90784719, 3.97149666],\n",
       "        [0.80925607, 0.87231668, 1.0209531 , 1.07306198, 1.14560887],\n",
       "        [1.31659666, 1.73373841, 1.82391473, 1.97604598, 1.98368445],\n",
       "        [1.22483101, 1.24474376, 1.2580648 , 1.36293061, 1.4090075 ],\n",
       "        [1.4931197 , 1.8380248 , 2.40503005, 2.44790257, 2.70753127],\n",
       "        [0.76275057, 0.79280421, 0.82106634, 0.94763752, 1.0498104 ],\n",
       "        [0.92954028, 1.05224304, 1.06181238, 1.07523214, 1.11129777],\n",
       "        [0.77758741, 0.96605733, 1.06319777, 1.1841204 , 1.19581939],\n",
       "        [1.12129327, 1.48224822, 1.51653554, 1.76450955, 1.7875077 ],\n",
       "        [1.11552811, 1.29828178, 1.30470917, 1.37097209, 1.42100667],\n",
       "        [1.37531138, 1.7133232 , 1.77022918, 1.77244108, 1.79997806],\n",
       "        [1.01077737, 1.04121895, 1.19927881, 1.21490264, 1.2457777 ],\n",
       "        [0.61449612, 0.88423249, 0.89288286, 1.03540219, 1.06676598],\n",
       "        [1.96971957, 2.03408059, 2.06341075, 2.1193353 , 2.19908527],\n",
       "        [1.04651145, 1.06865382, 1.21329904, 1.21710692, 1.35907815],\n",
       "        [1.08092118, 1.30081231, 1.3020505 , 1.39764397, 1.39987303],\n",
       "        [0.80832335, 0.9470277 , 0.95831734, 0.9821488 , 1.07195235],\n",
       "        [1.10858177, 1.11908289, 1.3553171 , 1.36137013, 1.36170676],\n",
       "        [1.50207503, 1.55660368, 1.63529963, 1.84450629, 1.92297168],\n",
       "        [0.99164924, 1.03159157, 1.18311592, 1.39143885, 1.39846436],\n",
       "        [1.19622787, 1.32028784, 1.3736236 , 1.59274479, 1.64954173],\n",
       "        [1.56764647, 1.59348924, 1.62657581, 1.63515807, 1.6727409 ],\n",
       "        [1.11009972, 1.16928646, 1.25349422, 1.30323195, 1.62709529],\n",
       "        [1.73408888, 1.82275666, 2.17646538, 2.27392087, 2.32633967],\n",
       "        [0.47168231, 0.95024014, 0.95492874, 0.96925148, 1.0320703 ],\n",
       "        [0.84562824, 0.98588234, 1.00854168, 1.01023162, 1.0238033 ],\n",
       "        [1.25140774, 1.81372402, 1.93050203, 2.00574679, 2.04727172],\n",
       "        [1.15892073, 1.46675327, 2.03623793, 2.19807225, 2.30068133],\n",
       "        [0.91394405, 1.07744869, 1.38766637, 1.7706007 , 1.87959792],\n",
       "        [0.81492922, 0.85815456, 0.92080797, 0.98388684, 1.01760769],\n",
       "        [1.22849477, 1.36581458, 1.40397677, 1.4503886 , 1.86397958],\n",
       "        [1.0857753 , 1.10808775, 1.29352419, 1.31221207, 1.34374279],\n",
       "        [0.90867364, 0.92570476, 0.97347711, 1.00597813, 1.02430531],\n",
       "        [1.63923125, 1.67790998, 1.71046635, 1.90130571, 1.90164669],\n",
       "        [0.55263903, 0.61558354, 0.64624557, 0.70380537, 0.70769418],\n",
       "        [0.99563807, 1.03422448, 1.26881931, 1.3152995 , 1.40606272],\n",
       "        [1.44104186, 1.44996866, 1.61882327, 1.65749769, 1.73098851],\n",
       "        [0.87487645, 0.91328836, 1.28223025, 1.34730196, 1.37525395],\n",
       "        [1.17239667, 1.2365513 , 1.31868412, 1.35405729, 1.43215459],\n",
       "        [1.68325144, 1.98223943, 2.05021042, 2.07020858, 2.17840835],\n",
       "        [0.60967091, 0.97185351, 0.99281196, 1.03824744, 1.13183071],\n",
       "        [0.70570813, 0.89020921, 0.94637075, 1.00162544, 1.01917719],\n",
       "        [1.21614287, 1.2832236 , 1.36291679, 1.49269911, 1.62038011],\n",
       "        [0.91999958, 1.15915875, 1.170496  , 1.17808279, 1.18452317],\n",
       "        [1.30423985, 1.46931726, 1.64184292, 1.64218241, 1.67832009],\n",
       "        [1.36785383, 1.86475394, 1.92039349, 1.9439855 , 1.94869711],\n",
       "        [1.15138542, 1.39130491, 1.42207154, 1.70311856, 1.70978348],\n",
       "        [1.3230319 , 1.44477114, 1.47250616, 1.57758774, 1.59835326],\n",
       "        [1.50362375, 1.69855634, 1.70941349, 1.72243257, 1.79877535],\n",
       "        [2.32400181, 2.41729447, 3.27931467, 3.32623701, 3.3279533 ],\n",
       "        [1.19501323, 1.22268129, 1.26323681, 1.27080487, 1.29587699],\n",
       "        [1.5105509 , 1.60147541, 1.63429175, 1.6393086 , 1.6570403 ],\n",
       "        [1.04930533, 1.06463343, 1.07188825, 1.0739159 , 1.1373004 ],\n",
       "        [1.03655195, 1.09064733, 1.53607834, 1.57596907, 1.63581707],\n",
       "        [1.09329525, 1.21882708, 1.24290671, 1.37486974, 1.39895603],\n",
       "        [0.91121869, 0.9284162 , 0.94810364, 1.19327331, 1.40318749],\n",
       "        [1.5385677 , 2.2694244 , 2.33783725, 2.34806919, 2.35684693],\n",
       "        [0.76167413, 0.90820487, 0.95793327, 0.98850407, 1.0909548 ],\n",
       "        [1.23241025, 1.3480421 , 1.41892417, 1.4234105 , 1.43878407],\n",
       "        [1.85053533, 1.86575873, 1.96570545, 1.97710259, 2.04028593],\n",
       "        [0.74158606, 0.92558486, 0.97713291, 0.99338274, 1.00853922],\n",
       "        [1.2708548 , 1.32186746, 1.33863841, 1.34383135, 1.35103399],\n",
       "        [0.90010899, 1.20604264, 1.81450407, 1.82102619, 1.82586373],\n",
       "        [0.47170215, 0.70288966, 0.75766474, 0.92548567, 0.927711  ],\n",
       "        [1.65795526, 1.76937279, 1.78747127, 1.78920769, 2.14977452],\n",
       "        [2.05587018, 2.3448261 , 2.43356956, 2.45723214, 2.48841864],\n",
       "        [1.11746059, 1.44513386, 1.57814309, 1.61739029, 1.63359244],\n",
       "        [0.42718657, 0.69717567, 0.72266459, 0.88303644, 0.91193594],\n",
       "        [2.20670443, 2.31641789, 2.40152992, 2.40910029, 2.56473303],\n",
       "        [1.47307456, 1.48617194, 1.88437501, 2.11398333, 3.24655531],\n",
       "        [1.06281643, 1.20672723, 1.21449683, 1.27272796, 1.28046749],\n",
       "        [0.77589819, 0.83368717, 0.92542822, 0.92602721, 0.93050176],\n",
       "        [0.50007003, 0.71369798, 0.71717146, 0.8859541 , 0.89451453],\n",
       "        [0.6415678 , 1.01677406, 1.10658837, 1.13395184, 1.15441207],\n",
       "        [0.6527306 , 0.72157449, 0.89110888, 0.92018366, 0.97903502],\n",
       "        [1.1582728 , 1.23086644, 1.45937643, 1.57301744, 1.62587966],\n",
       "        [0.56380784, 1.0403768 , 1.30531088, 1.41377384, 1.49324747],\n",
       "        [0.55983605, 0.64728426, 0.76846115, 0.80699352, 0.83435657],\n",
       "        [0.89134509, 0.96490763, 1.01743306, 1.03637644, 1.05906189],\n",
       "        [2.16430876, 2.17646402, 2.25761554, 2.64880638, 2.72437571],\n",
       "        [1.19664175, 1.22975103, 1.23631109, 1.24157576, 1.35226201],\n",
       "        [0.96592082, 1.17204546, 1.21415833, 1.23529862, 1.25749689],\n",
       "        [1.274374  , 1.47706435, 1.81451286, 1.92580497, 2.08600457],\n",
       "        [1.4171596 , 1.72757622, 1.78043619, 1.7891847 , 1.86186019],\n",
       "        [1.28907622, 1.52986495, 1.64208403, 1.98454934, 2.08083087],\n",
       "        [0.73829702, 1.58772924, 1.64931699, 1.84226955, 1.86633176],\n",
       "        [1.19603404, 1.19843314, 1.48282401, 1.52920087, 1.53033247],\n",
       "        [1.35825209, 1.56492467, 1.82076451, 2.01250683, 2.01790695],\n",
       "        [0.55847448, 0.7108165 , 0.71406363, 0.75648491, 0.81211185],\n",
       "        [1.76674553, 2.77752436, 3.13695409, 3.17431828, 3.20458747],\n",
       "        [1.06347493, 1.13397893, 1.29490118, 1.39299977, 1.55340723],\n",
       "        [0.96382804, 0.98847712, 1.10797102, 1.21286272, 1.231481  ],\n",
       "        [1.39830947, 1.69205221, 1.7854498 , 2.06101282, 2.06609668],\n",
       "        [0.65869224, 0.68349782, 0.83679521, 0.94653199, 1.06613816],\n",
       "        [1.36940777, 1.41385092, 1.51841402, 1.55992112, 1.56608053],\n",
       "        [1.12189579, 1.14928096, 1.27458547, 1.33763343, 1.35194498],\n",
       "        [0.85691623, 1.07903085, 1.10708804, 1.19840876, 1.26658956],\n",
       "        [1.5614306 , 1.72257452, 1.91025536, 1.92872486, 2.25138675],\n",
       "        [0.76957974, 0.88967194, 0.93764349, 1.02660954, 1.05293104],\n",
       "        [1.31718498, 1.42810196, 1.46933026, 1.54239743, 1.65853572],\n",
       "        [1.28857038, 1.41111347, 1.44954314, 1.48697863, 1.52277886],\n",
       "        [0.85408972, 0.87112962, 0.87239785, 0.88323271, 0.91966006],\n",
       "        [0.76370477, 0.79806027, 0.96595722, 1.09877447, 1.17873023],\n",
       "        [0.8649387 , 0.90335386, 0.91436261, 0.93270877, 0.93574125],\n",
       "        [0.93609661, 0.96665747, 0.98747167, 1.02257481, 1.04406536],\n",
       "        [1.42965305, 1.60472037, 1.77851621, 1.90126169, 3.11373231],\n",
       "        [1.20590822, 1.38747164, 1.42827568, 1.43779487, 1.51288869],\n",
       "        [1.267546  , 1.32892553, 1.33280563, 1.48372868, 1.51623811],\n",
       "        [1.51481877, 1.5321776 , 1.58328822, 1.70992659, 1.81825625],\n",
       "        [1.51528035, 2.78433171, 2.79129763, 3.04726389, 3.07500683],\n",
       "        [2.05110902, 2.5205202 , 2.55688297, 2.56275274, 2.56284174],\n",
       "        [2.3629186 , 3.34834441, 3.35711297, 3.36462468, 3.60110901],\n",
       "        [1.10228554, 1.10414816, 1.15110851, 1.15927218, 1.16999636],\n",
       "        [0.83506682, 0.84553461, 0.89720821, 0.90038971, 0.92068192],\n",
       "        [0.83175015, 1.02465084, 1.58426937, 1.69000457, 1.73050601],\n",
       "        [0.95017408, 1.26748036, 1.5029014 , 1.60991375, 1.64453937],\n",
       "        [0.71714388, 1.45194132, 1.7202065 , 1.78098942, 1.83963403],\n",
       "        [1.64928908, 1.9809012 , 2.03220352, 2.17735804, 2.18326778],\n",
       "        [0.55711427, 0.60051811, 1.1269763 , 1.12790049, 1.24887258],\n",
       "        [1.63986145, 2.02677737, 2.11755899, 2.15872891, 2.21415521],\n",
       "        [1.27297515, 1.33914216, 1.51577854, 1.52155881, 1.62443018],\n",
       "        [1.01792667, 1.42360371, 1.61463453, 1.70996241, 1.80226481],\n",
       "        [1.09364395, 1.40817152, 1.614469  , 1.7090995 , 1.73319324],\n",
       "        [1.25084291, 1.89855784, 2.13333561, 2.25887694, 2.27474453],\n",
       "        [0.90902312, 0.97854601, 1.16356827, 1.18396632, 1.18805207],\n",
       "        [1.63942126, 1.7691056 , 2.00286104, 2.0175365 , 2.14579959],\n",
       "        [1.07792849, 1.16051534, 1.20729933, 1.2634674 , 1.28012188],\n",
       "        [0.95042222, 1.06046308, 1.24570278, 1.28844985, 1.31270923],\n",
       "        [1.37665747, 1.81122607, 1.83461694, 1.88200023, 1.97113842],\n",
       "        [0.55303569, 0.74961828, 0.79036882, 0.80565825, 0.82237438],\n",
       "        [0.80886872, 1.00787817, 1.06709518, 1.06932395, 1.11297673],\n",
       "        [1.53769514, 1.70701212, 1.7351111 , 2.01307109, 2.01974168],\n",
       "        [1.05342905, 1.09494084, 1.1555262 , 1.17695771, 1.23500416],\n",
       "        [1.28988907, 1.43985633, 1.48556715, 1.5070258 , 1.56509699],\n",
       "        [0.92918116, 1.22636682, 1.43078954, 1.45025768, 1.60596735],\n",
       "        [1.13007135, 1.66762255, 1.75536728, 2.03728749, 2.08006721],\n",
       "        [1.21417423, 1.51374002, 1.54972994, 1.57692927, 1.61734881],\n",
       "        [1.0322923 , 1.03543957, 1.09678243, 1.10345508, 1.1763086 ],\n",
       "        [2.10423144, 2.12295676, 2.14737922, 2.24052018, 2.46614129]]),\n",
       " array([[109, 591, 259, 408, 240],\n",
       "        [ 82, 187, 529, 107, 261],\n",
       "        [453, 302,  75, 484, 577],\n",
       "        [386, 490, 592, 392, 419],\n",
       "        [ 41, 537, 258,  58, 482],\n",
       "        [109, 591, 438,  14, 408],\n",
       "        [264, 577, 337, 301, 249],\n",
       "        [ 28,   6, 215, 546, 323],\n",
       "        [528, 381, 184, 332,  14],\n",
       "        [ 72, 593,  51, 142, 314],\n",
       "        [310, 152, 351, 435, 579],\n",
       "        [387, 123,   7, 199, 336],\n",
       "        [441, 199, 497, 588, 276],\n",
       "        [126, 202, 129, 488, 510],\n",
       "        [458,  51, 246, 580, 418],\n",
       "        [228, 534, 379, 265, 252],\n",
       "        [500, 113, 563, 542, 168],\n",
       "        [217, 504, 559, 220, 237],\n",
       "        [199, 548,   7, 477,  15],\n",
       "        [ 80, 300, 422, 396, 143],\n",
       "        [216,  76,  23, 129, 358],\n",
       "        [ 80, 300, 145, 206, 137],\n",
       "        [448,  90, 343, 258,  58],\n",
       "        [206,  80, 311, 450, 112],\n",
       "        [ 55, 346, 443, 529, 187],\n",
       "        [148, 237, 345,  83, 552],\n",
       "        [  9, 260, 128, 506, 332],\n",
       "        [103, 343,  58, 185, 258],\n",
       "        [343, 306, 102, 131,  42],\n",
       "        [541,  46, 569, 330, 223],\n",
       "        [ 51, 488, 142,   2, 129],\n",
       "        [154,  65, 426, 354, 573],\n",
       "        [434, 332, 330, 282,  46],\n",
       "        [441, 186, 414, 256, 204],\n",
       "        [239, 449, 456, 425,  60],\n",
       "        [491, 400,  72, 445, 314],\n",
       "        [ 43, 375,  95, 178, 278],\n",
       "        [144, 312,  53, 164, 399],\n",
       "        [592, 223, 490, 376, 347],\n",
       "        [469, 528, 381, 342, 171],\n",
       "        [ 61, 532, 247, 355, 172],\n",
       "        [133, 531,  47, 455,  73],\n",
       "        [221, 494, 393, 227, 316],\n",
       "        [502, 287, 442,  76, 358],\n",
       "        [414, 256, 186, 174, 441],\n",
       "        [506, 592, 223,   9, 490],\n",
       "        [546, 457, 323, 386, 569],\n",
       "        [261, 595,  82, 187, 529],\n",
       "        [331, 225, 235, 557,  61],\n",
       "        [576, 306,  42, 257, 439],\n",
       "        [502,  13, 566, 410, 594],\n",
       "        [432, 161, 171, 223, 234],\n",
       "        [ 32, 512, 477, 531, 198],\n",
       "        [416, 345,  83, 237, 547],\n",
       "        [361, 251, 231,  46, 271],\n",
       "        [105, 322, 484, 181, 180],\n",
       "        [ 72,  43, 142, 558, 445],\n",
       "        [252, 127, 174, 290, 427],\n",
       "        [339, 461, 384, 412, 520],\n",
       "        [146,  71, 210, 404, 184],\n",
       "        [106, 267, 479, 187, 315],\n",
       "        [143,  80, 475, 300, 250],\n",
       "        [445, 314, 153, 197, 126],\n",
       "        [373, 353,  35, 451, 299],\n",
       "        [493, 291, 585, 425, 456],\n",
       "        [462, 454, 568, 289, 399],\n",
       "        [541, 328, 111,  46,  33],\n",
       "        [386, 280, 490, 584, 135],\n",
       "        [137, 447, 215, 483, 546],\n",
       "        [305, 430,  61,  90, 459],\n",
       "        [548,  73, 308, 349, 167],\n",
       "        [132,  26,  53,  29, 178],\n",
       "        [494, 413, 580, 254, 558],\n",
       "        [531, 343,  32, 258,  90],\n",
       "        [268, 213,  37, 264, 249],\n",
       "        [369,  94, 252, 579, 585],\n",
       "        [124,  50, 463, 570,   7],\n",
       "        [470, 555, 309, 387, 551],\n",
       "        [519, 249, 268, 181, 286],\n",
       "        [437, 311, 408, 444, 149],\n",
       "        [139, 335, 545, 184, 154],\n",
       "        [403, 539, 566, 239, 435],\n",
       "        [534, 265, 372, 241,  96],\n",
       "        [577, 249, 303, 367, 125],\n",
       "        [386, 392, 526, 588, 135],\n",
       "        [408, 506, 223, 161, 437],\n",
       "        [130, 537,  41, 283, 164],\n",
       "        [174, 372,  24,  56, 241],\n",
       "        [378, 357,  53,  79, 164],\n",
       "        [578, 236, 145, 444, 300],\n",
       "        [130,  77, 258,  41, 537],\n",
       "        [126, 488, 510, 151, 351],\n",
       "        [164, 313,  35,  64, 180],\n",
       "        [185,  77, 307, 557, 175],\n",
       "        [494, 580, 413, 418, 458],\n",
       "        [477, 199,   7, 548, 204],\n",
       "        [421, 523, 343,  62,  91],\n",
       "        [495, 541, 404, 528, 232],\n",
       "        [278, 375, 501,  43, 150],\n",
       "        [ 22, 427, 291, 493, 497],\n",
       "        [220, 217, 504, 559, 237],\n",
       "        [105, 299, 303,  37, 353],\n",
       "        [594, 314,  76, 126, 302],\n",
       "        [454, 462, 160, 362, 399],\n",
       "        [529, 486, 407, 232, 458],\n",
       "        [242, 261, 443, 346, 529],\n",
       "        [147, 578, 236, 489, 565],\n",
       "        [200, 419, 248, 392, 386],\n",
       "        [ 43, 151,  95, 375, 178],\n",
       "        [502, 351, 566, 435, 442],\n",
       "        [174, 543, 256, 429, 147],\n",
       "        [353, 337, 373, 451, 299],\n",
       "        [155, 376, 163,  55, 589],\n",
       "        [576,  42, 436, 378, 391],\n",
       "        [495, 275, 591, 528, 276],\n",
       "        [339, 520, 122, 547, 461],\n",
       "        [408, 240, 588, 149, 506],\n",
       "        [155, 242, 261, 330, 589],\n",
       "        [141, 467, 204, 468, 186],\n",
       "        [194,  97, 289, 178, 233],\n",
       "        [269, 466,  98,  78,  31],\n",
       "        [ 29, 360,  48, 510, 464],\n",
       "        [350, 549, 166, 246, 218],\n",
       "        [475, 143,  50, 141, 544],\n",
       "        [594,  38, 304, 309, 191],\n",
       "        [585,  56, 252, 239,  70],\n",
       "        [357,  53,  79, 320, 164],\n",
       "        [485, 144,   0, 257, 571],\n",
       "        [383, 416, 547,  83, 520],\n",
       "        [344, 144, 304, 168, 484],\n",
       "        [276, 490, 592, 146, 347],\n",
       "        [286, 299, 353, 121, 373],\n",
       "        [344, 144, 257, 298, 571],\n",
       "        [442, 502, 550, 309, 566],\n",
       "        [ 26, 160, 454, 351, 510],\n",
       "        [287, 314,  23,  97, 344],\n",
       "        [217, 220, 504, 559, 237],\n",
       "        [140, 441, 516, 477, 427],\n",
       "        [550, 442,  36, 303, 367],\n",
       "        [552, 218, 165, 246, 418],\n",
       "        [348, 379, 400, 508, 228],\n",
       "        [ 63,  27, 414, 372,  31],\n",
       "        [288, 112, 578,   1, 137],\n",
       "        [ 97, 194, 110,  75, 314],\n",
       "        [116, 191, 577, 303, 542],\n",
       "        [300, 137, 483, 578,  80],\n",
       "        [214,  44, 582,  54, 331],\n",
       "        [ 83, 547, 552, 345, 148],\n",
       "        [439, 100, 131, 421, 156],\n",
       "        [330, 232, 242, 332, 404],\n",
       "        [ 84, 511, 590, 209, 431],\n",
       "        [499, 204, 467, 162, 468],\n",
       "        [ 14,   9, 533, 408, 260],\n",
       "        [ 27,  86,  31, 121,  63],\n",
       "        [ 27, 196,  31,  63,  69],\n",
       "        [489, 374, 282, 260, 569],\n",
       "        [208, 461, 318, 412, 295],\n",
       "        [272, 494, 315, 458, 407],\n",
       "        [310, 351, 233, 574,  96],\n",
       "        [ 24, 385, 331,  69, 108],\n",
       "        [ 76, 596, 116, 191,  38],\n",
       "        [529, 107, 118, 282,  82],\n",
       "        [538, 198, 175, 467, 100],\n",
       "        [170, 248, 187, 106, 142],\n",
       "        [597, 167, 228, 502, 551],\n",
       "        [464, 227, 373, 299, 505],\n",
       "        [570, 546, 137, 457, 543],\n",
       "        [539, 239, 463, 581,  15],\n",
       "        [594, 126, 202, 129, 410],\n",
       "        [441, 414, 427,  22, 290]], dtype=int64))"
      ]
     },
     "execution_count": 27,
     "metadata": {},
     "output_type": "execute_result"
    }
   ],
   "source": [
    "get_k_nearest(diabetes_testing, diabetes_training, 5)"
   ]
  },
  {
   "cell_type": "code",
   "execution_count": 28,
   "metadata": {},
   "outputs": [],
   "source": [
    "def classifier_accuracy(table, test, k):\n",
    "    distance, indices = get_k_nearest(test.drop(\"Outcome\"), table.drop(\"Outcome\"), k)\n",
    "    rows = table.rows\n",
    "    num_right = 0\n",
    "    classifications = []\n",
    "    test_rows = test.rows\n",
    "    for index in indices:\n",
    "        classes_nearest = []\n",
    "        diabetes_count = 0\n",
    "        for i in index:\n",
    "            classes_nearest += [rows[i][-1]]\n",
    "        for elem in classes_nearest:\n",
    "            if elem == 1:\n",
    "                diabetes_count += 1\n",
    "        if diabetes_count > k/2:\n",
    "            classifications += [1]\n",
    "        else:\n",
    "            classifications += [0]\n",
    "    for i in range(len(classifications)):\n",
    "        if classifications[i] == test_rows[i][-1]:\n",
    "            num_right += 1\n",
    "    return num_right/len(test_rows)"
   ]
  },
  {
   "cell_type": "code",
   "execution_count": 30,
   "metadata": {},
   "outputs": [
    {
     "data": {
      "text/plain": [
       "0.745819397993311"
      ]
     },
     "execution_count": 30,
     "metadata": {},
     "output_type": "execute_result"
    }
   ],
   "source": [
    "diabetes_training_best = diabetes_testing.select(\"Age\", \"Glucose\", \"BMI\", \"Outcome\")\n",
    "diabetes_testing_best = diabetes_training.select(\"Age\", \"Glucose\", \"BMI\", \"Outcome\")\n",
    "classifier_accuracy(diabetes_training_best, diabetes_testing_best, 9)"
   ]
  },
  {
   "cell_type": "code",
   "execution_count": null,
   "metadata": {},
   "outputs": [],
   "source": [
    "get_k_nearest(diabetes_testing, diabetes_training, k)"
   ]
  },
  {
   "cell_type": "code",
   "execution_count": null,
   "metadata": {},
   "outputs": [],
   "source": [
    "diabetes_std.where('Outcome', 0).hist('Insulin')\n",
    "diabetes_std.where('Outcome', 1).hist('Insulin')"
   ]
  },
  {
   "cell_type": "code",
   "execution_count": null,
   "metadata": {},
   "outputs": [],
   "source": [
    "diabetes_std.where(\"Outcome\", 0).hist('Pregnancies')\n",
    "diabetes_std.where(\"Outcome\", 1).hist('Pregnancies')"
   ]
  },
  {
   "cell_type": "code",
   "execution_count": null,
   "metadata": {},
   "outputs": [],
   "source": [
    "diabetes_std.where(\"Outcome\", 0).hist('BloodPressure')\n",
    "diabetes_std.where(\"Outcome\", 1).hist('BloodPressure')"
   ]
  },
  {
   "cell_type": "code",
   "execution_count": null,
   "metadata": {},
   "outputs": [],
   "source": [
    "diabetes_std.where(\"Outcome\", 0).hist('Glucose')\n",
    "diabetes_std.where(\"Outcome\", 1).hist('Glucose')"
   ]
  },
  {
   "cell_type": "code",
   "execution_count": null,
   "metadata": {},
   "outputs": [],
   "source": [
    "diabetes.where(\"Outcome\", 0).hist('DiabetesPedigreeFunction')\n",
    "diabetes.where(\"Outcome\", 1).hist('DiabetesPedigreeFunction')"
   ]
  },
  {
   "cell_type": "code",
   "execution_count": null,
   "metadata": {},
   "outputs": [],
   "source": [
    "diabetes.where(\"Outcome\", 0).hist('BMI')\n",
    "diabetes.where(\"Outcome\", 1).hist('BMI')"
   ]
  },
  {
   "cell_type": "code",
   "execution_count": null,
   "metadata": {},
   "outputs": [],
   "source": [
    "diabetes.where(\"Outcome\", 0).hist('Age')\n",
    "diabetes.where(\"Outcome\", 1).hist('Age')"
   ]
  },
  {
   "cell_type": "code",
   "execution_count": null,
   "metadata": {
    "scrolled": true
   },
   "outputs": [],
   "source": [
    "diabetes.group('Insulin')"
   ]
  },
  {
   "cell_type": "code",
   "execution_count": null,
   "metadata": {},
   "outputs": [],
   "source": [
    "diabetes.group('BMI')"
   ]
  },
  {
   "cell_type": "code",
   "execution_count": null,
   "metadata": {},
   "outputs": [],
   "source": [
    "diabetes.group('Outcome', np.mean)"
   ]
  },
  {
   "cell_type": "code",
   "execution_count": null,
   "metadata": {},
   "outputs": [],
   "source": [
    "diabetes.where('Insulin', 0).group(['Outcome', 'Insulin'])"
   ]
  },
  {
   "cell_type": "code",
   "execution_count": null,
   "metadata": {},
   "outputs": [],
   "source": []
  }
 ],
 "metadata": {
  "kernelspec": {
   "display_name": "Python 3",
   "language": "python",
   "name": "python3"
  },
  "language_info": {
   "codemirror_mode": {
    "name": "ipython",
    "version": 3
   },
   "file_extension": ".py",
   "mimetype": "text/x-python",
   "name": "python",
   "nbconvert_exporter": "python",
   "pygments_lexer": "ipython3",
   "version": "3.6.4"
  }
 },
 "nbformat": 4,
 "nbformat_minor": 2
}
